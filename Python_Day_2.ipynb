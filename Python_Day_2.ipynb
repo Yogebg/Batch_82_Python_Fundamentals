{
 "cells": [
  {
   "cell_type": "code",
   "execution_count": 1,
   "id": "c046c02d",
   "metadata": {},
   "outputs": [
    {
     "name": "stdout",
     "output_type": "stream",
     "text": [
      "Hello to the Python world !!\n"
     ]
    }
   ],
   "source": [
    "print (\"Hello to the Python world !!\")"
   ]
  },
  {
   "cell_type": "code",
   "execution_count": null,
   "id": "f63877e4",
   "metadata": {},
   "outputs": [],
   "source": [
    "Intro to python variables"
   ]
  },
  {
   "cell_type": "code",
   "execution_count": null,
   "id": "2aaf6986",
   "metadata": {},
   "outputs": [],
   "source": [
    "Rule 1 : No spaces are allowed in variable"
   ]
  },
  {
   "cell_type": "code",
   "execution_count": null,
   "id": "74d97e39",
   "metadata": {},
   "outputs": [],
   "source": [
    "nw issues so skipped this from my notes . "
   ]
  },
  {
   "cell_type": "code",
   "execution_count": null,
   "id": "fee27251",
   "metadata": {},
   "outputs": [],
   "source": []
  },
  {
   "cell_type": "code",
   "execution_count": null,
   "id": "bbeba6e2",
   "metadata": {},
   "outputs": [],
   "source": [
    "Rule 2 : Variable cannot start with a number "
   ]
  },
  {
   "cell_type": "code",
   "execution_count": null,
   "id": "5575f41f",
   "metadata": {},
   "outputs": [],
   "source": []
  },
  {
   "cell_type": "code",
   "execution_count": null,
   "id": "b2d4d693",
   "metadata": {},
   "outputs": [],
   "source": []
  },
  {
   "cell_type": "code",
   "execution_count": null,
   "id": "19adfb9c",
   "metadata": {},
   "outputs": [],
   "source": [
    "Rule 3 : Variable name should not contain any special characters"
   ]
  },
  {
   "cell_type": "code",
   "execution_count": null,
   "id": "bbf554eb",
   "metadata": {},
   "outputs": [],
   "source": [
    "!#%&"
   ]
  },
  {
   "cell_type": "code",
   "execution_count": 9,
   "id": "9071d5e2",
   "metadata": {
    "scrolled": true
   },
   "outputs": [
    {
     "ename": "SyntaxError",
     "evalue": "invalid syntax (3107004638.py, line 1)",
     "output_type": "error",
     "traceback": [
      "\u001b[1;36m  Cell \u001b[1;32mIn[9], line 1\u001b[1;36m\u001b[0m\n\u001b[1;33m    name_@ = 'Barge'\u001b[0m\n\u001b[1;37m           ^\u001b[0m\n\u001b[1;31mSyntaxError\u001b[0m\u001b[1;31m:\u001b[0m invalid syntax\n"
     ]
    }
   ],
   "source": [
    "name_@ = 'Barge'\n",
    "print (name@)"
   ]
  },
  {
   "cell_type": "code",
   "execution_count": 2,
   "id": "76ef4188",
   "metadata": {},
   "outputs": [
    {
     "ename": "SyntaxError",
     "evalue": "invalid syntax (1806865713.py, line 1)",
     "output_type": "error",
     "traceback": [
      "\u001b[1;36m  Cell \u001b[1;32mIn[2], line 1\u001b[1;36m\u001b[0m\n\u001b[1;33m    print (name@)\u001b[0m\n\u001b[1;37m                ^\u001b[0m\n\u001b[1;31mSyntaxError\u001b[0m\u001b[1;31m:\u001b[0m invalid syntax\n"
     ]
    }
   ],
   "source": []
  },
  {
   "cell_type": "code",
   "execution_count": null,
   "id": "00086b2a",
   "metadata": {},
   "outputs": [],
   "source": [
    "Intro to Datatypes "
   ]
  },
  {
   "cell_type": "code",
   "execution_count": null,
   "id": "dff4a473",
   "metadata": {},
   "outputs": [],
   "source": [
    "1. Strings ====> str"
   ]
  },
  {
   "cell_type": "code",
   "execution_count": null,
   "id": "55b11553",
   "metadata": {},
   "outputs": [],
   "source": [
    "2. Numbers integers ====> int"
   ]
  },
  {
   "cell_type": "code",
   "execution_count": null,
   "id": "82eff203",
   "metadata": {},
   "outputs": [],
   "source": [
    "3. List ====> list"
   ]
  },
  {
   "cell_type": "code",
   "execution_count": null,
   "id": "023d6ead",
   "metadata": {},
   "outputs": [],
   "source": [
    "3. Tuples ====> tuple"
   ]
  },
  {
   "cell_type": "code",
   "execution_count": null,
   "id": "f8d0b3c6",
   "metadata": {},
   "outputs": [],
   "source": [
    "5 Dictionaries ====> dict"
   ]
  },
  {
   "cell_type": "code",
   "execution_count": null,
   "id": "e0cd9213",
   "metadata": {},
   "outputs": [],
   "source": []
  },
  {
   "cell_type": "code",
   "execution_count": null,
   "id": "269f5019",
   "metadata": {},
   "outputs": [],
   "source": [
    "Classification of Datatypes ----> Broardly 2 types as follows : "
   ]
  },
  {
   "cell_type": "code",
   "execution_count": null,
   "id": "562dd6fc",
   "metadata": {},
   "outputs": [],
   "source": []
  },
  {
   "cell_type": "code",
   "execution_count": null,
   "id": "af3c95d1",
   "metadata": {},
   "outputs": [],
   "source": [
    "1. Mutable ( can be edited or flexible )"
   ]
  },
  {
   "cell_type": "code",
   "execution_count": null,
   "id": "9aae1f3d",
   "metadata": {},
   "outputs": [],
   "source": [
    "2. Immutable ( cannot be edited  or fixed )"
   ]
  },
  {
   "cell_type": "code",
   "execution_count": null,
   "id": "c804381e",
   "metadata": {},
   "outputs": [],
   "source": []
  },
  {
   "cell_type": "code",
   "execution_count": null,
   "id": "41422278",
   "metadata": {},
   "outputs": [],
   "source": [
    "Intro to String datatype : \n",
    "    \n",
    "definition  Series of characters declared in ''\n",
    "Classification - Immutable datatype\n",
    "How to define : '' or \"\" \n"
   ]
  },
  {
   "cell_type": "code",
   "execution_count": 7,
   "id": "5455bab2",
   "metadata": {},
   "outputs": [
    {
     "name": "stdout",
     "output_type": "stream",
     "text": [
      "Barge\n"
     ]
    }
   ],
   "source": [
    "A = 'Barge'\n",
    "print(A)"
   ]
  },
  {
   "cell_type": "code",
   "execution_count": 8,
   "id": "ba72df5a",
   "metadata": {
    "scrolled": false
   },
   "outputs": [
    {
     "name": "stdout",
     "output_type": "stream",
     "text": [
      "Barge\n"
     ]
    }
   ],
   "source": [
    "A = \"Barge\"\n",
    "print(A)"
   ]
  },
  {
   "cell_type": "code",
   "execution_count": null,
   "id": "7c2020f4",
   "metadata": {},
   "outputs": [],
   "source": [
    "# is comment "
   ]
  },
  {
   "cell_type": "code",
   "execution_count": null,
   "id": "02df73cb",
   "metadata": {},
   "outputs": [],
   "source": []
  },
  {
   "cell_type": "code",
   "execution_count": null,
   "id": "de776c9f",
   "metadata": {},
   "outputs": [],
   "source": []
  },
  {
   "cell_type": "code",
   "execution_count": null,
   "id": "7873055b",
   "metadata": {},
   "outputs": [],
   "source": []
  },
  {
   "cell_type": "code",
   "execution_count": null,
   "id": "6f76dd0d",
   "metadata": {},
   "outputs": [],
   "source": []
  },
  {
   "cell_type": "code",
   "execution_count": null,
   "id": "454110b2",
   "metadata": {},
   "outputs": [],
   "source": []
  },
  {
   "cell_type": "code",
   "execution_count": null,
   "id": "c3bd7207",
   "metadata": {},
   "outputs": [],
   "source": []
  },
  {
   "cell_type": "code",
   "execution_count": null,
   "id": "41860871",
   "metadata": {},
   "outputs": [],
   "source": []
  },
  {
   "cell_type": "code",
   "execution_count": null,
   "id": "a88fc550",
   "metadata": {},
   "outputs": [],
   "source": []
  },
  {
   "cell_type": "code",
   "execution_count": null,
   "id": "f4f1b5a4",
   "metadata": {},
   "outputs": [],
   "source": []
  },
  {
   "cell_type": "code",
   "execution_count": null,
   "id": "eaf650da",
   "metadata": {},
   "outputs": [],
   "source": []
  },
  {
   "cell_type": "code",
   "execution_count": null,
   "id": "9aa5c3cc",
   "metadata": {},
   "outputs": [],
   "source": []
  }
 ],
 "metadata": {
  "kernelspec": {
   "display_name": "Python 3 (ipykernel)",
   "language": "python",
   "name": "python3"
  },
  "language_info": {
   "codemirror_mode": {
    "name": "ipython",
    "version": 3
   },
   "file_extension": ".py",
   "mimetype": "text/x-python",
   "name": "python",
   "nbconvert_exporter": "python",
   "pygments_lexer": "ipython3",
   "version": "3.11.4"
  }
 },
 "nbformat": 4,
 "nbformat_minor": 5
}
